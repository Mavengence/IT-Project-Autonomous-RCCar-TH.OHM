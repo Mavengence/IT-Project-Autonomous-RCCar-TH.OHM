{
 "cells": [
  {
   "cell_type": "code",
   "execution_count": 1,
   "metadata": {},
   "outputs": [
    {
     "name": "stderr",
     "output_type": "stream",
     "text": [
      "Using TensorFlow backend.\n"
     ]
    }
   ],
   "source": [
    "import os\n",
    "import keras\n",
    "import numpy as np\n",
    "import pandas as pd\n",
    "import matplotlib.pyplot as plt\n",
    "from numpy import genfromtxt\n",
    "from keras import regularizers\n",
    "from keras.utils import np_utils\n",
    "from keras.datasets import cifar10\n",
    "from keras.models import load_model\n",
    "from keras.models import Model\n",
    "from keras.models import Sequential\n",
    "from keras.models import model_from_json\n",
    "from keras.layers import Conv2D, MaxPooling2D\n",
    "from keras.callbacks import LearningRateScheduler\n",
    "from keras.preprocessing.image import ImageDataGenerator\n",
    "from keras.layers import Dense, Activation, Flatten, Dropout, BatchNormalization\n",
    "from IPython.display import Image\n",
    "%matplotlib inline\n",
    "\n",
    "\n",
    "from keras.layers import Convolution2D, Input\n",
    "from keras.layers.core import Dense, Flatten, Lambda, Activation, Dropout\n",
    "from keras.models import Model, Sequential\n",
    "from keras.optimizers import SGD"
   ]
  },
  {
   "cell_type": "code",
   "execution_count": 2,
   "metadata": {},
   "outputs": [],
   "source": [
    "img_in = Input(shape=(120, 160, 3), name='img_in')\n",
    "x = img_in\n",
    "\n",
    "# Convolution2D class name is an alias for Conv2D\n",
    "x = Convolution2D(24, (5, 5), strides=(2, 2), activation='relu')(x)  # 24 features, 5 pixel x 5 pixel kernel (convolution, feauture) window, 2wx2h stride, relu activation\n",
    "x = Convolution2D(32, (5, 5), strides=(2, 2), activation='relu')(x)  # 32 features, 5px5p kernel window, 2wx2h stride, relu activatiion\n",
    "x = Convolution2D(64, (5, 5), strides=(2, 2), activation='relu')(x)  # 64 features, 5px5p kernal window, 2wx2h stride, relu\n",
    "x = Convolution2D(64, (3, 3), strides=(2, 2), activation='relu')(x)  # 64 features, 3px3p kernal window, 2wx2h stride, relu\n",
    "x = Convolution2D(64, (3, 3), strides=(1, 1), activation='relu')(x)  # 64 features, 3px3p kernal window, 1wx1h stride, relu\n",
    "x = Flatten(name='flattened')(x)  # Flatten to 1D (Fully connected)\n",
    "x = Dense(100, activation='relu')(x)  # Classify the data into 100 features, make all negatives 0\n",
    "x = Dense(50, activation='relu')(x)  # Classify the data into 50 features, make all negatives 0\n",
    "\n",
    "# categorical output of the angle\n",
    "angle_out = Dense(units=1, activation='linear', name='angle_out')(x)\n",
    "\n",
    "# continous output of throttle\n",
    "throttle_out = Dense(units=1, activation='linear', name='throttle_out')(x)\n",
    "\n",
    "model = Model(inputs=[img_in], outputs=[angle_out, throttle_out])\n",
    "\n",
    "model.compile(optimizer='adam',\n",
    "              loss={'angle_out': 'mean_squared_error',\n",
    "                    'throttle_out': 'mean_squared_error'},\n",
    "              loss_weights={'angle_out': 0.5, 'throttle_out': .5})\n",
    "\n",
    "\n"
   ]
  }
 ],
 "metadata": {
  "kernelspec": {
   "display_name": "Python 3",
   "language": "python",
   "name": "python3"
  },
  "language_info": {
   "codemirror_mode": {
    "name": "ipython",
    "version": 3
   },
   "file_extension": ".py",
   "mimetype": "text/x-python",
   "name": "python",
   "nbconvert_exporter": "python",
   "pygments_lexer": "ipython3",
   "version": "3.7.4"
  }
 },
 "nbformat": 4,
 "nbformat_minor": 2
}
